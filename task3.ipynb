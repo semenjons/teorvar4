{
 "cells": [
  {
   "attachments": {},
   "cell_type": "markdown",
   "metadata": {},
   "source": [
    "Непрерывная случайная величина X распределена нормально и задана плотностью распределения\n",
    " f(x) = (1 / (4 * sqrt(2pi))) * exp((-(x+2)**2) / 32) \n",
    " Найдите:   а). M(X) \n",
    "            б). D(X) \n",
    "            в). std(X) (среднее квадратичное отклонение)\n",
    "\n",
    "D(X) = 16\n",
    "M(X) = -2\n",
    "std(X) = 4"
   ]
  }
 ],
 "metadata": {
  "kernelspec": {
   "display_name": ".folder",
   "language": "python",
   "name": "python3"
  },
  "language_info": {
   "codemirror_mode": {
    "name": "ipython",
    "version": 3
   },
   "file_extension": ".py",
   "mimetype": "text/x-python",
   "name": "python",
   "nbconvert_exporter": "python",
   "pygments_lexer": "ipython3",
   "version": "3.11.2"
  },
  "orig_nbformat": 4,
  "vscode": {
   "interpreter": {
    "hash": "473553e28e5b363d575e92da535f1f161aa2132f3ee15a8dbf1484ed06349749"
   }
  }
 },
 "nbformat": 4,
 "nbformat_minor": 2
}
